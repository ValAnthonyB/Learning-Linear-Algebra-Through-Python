{
 "cells": [
  {
   "cell_type": "code",
   "execution_count": 1,
   "metadata": {},
   "outputs": [],
   "source": [
    "import numpy as np\n",
    "import scipy.linalg as la\n",
    "import cmath as cm"
   ]
  },
  {
   "cell_type": "markdown",
   "metadata": {},
   "source": [
    "# Power Method\n",
    "\n",
    "The Power Method only finds the dominant eigenvalue and its corresponding eigenvector. It works best when the entries of $A$ are all positive."
   ]
  },
  {
   "cell_type": "code",
   "execution_count": 2,
   "metadata": {},
   "outputs": [],
   "source": [
    "def power_method(A, N=10e6, tol=0.0001):\n",
    "    '''\n",
    "    This function computes for the dominant eigenvalue and its corresponding eigenvector of a square matrix.\n",
    "    '''\n",
    "    \n",
    "    # Gets the dimensions/shape of the matrix\n",
    "    m, n = A.shape\n",
    "    \n",
    "    # Random matrix of length n\n",
    "    x0 = np.random.rand(n)\n",
    "    \n",
    "    # Normalizing the matrix\n",
    "    x0 = x0 / la.norm(x0)\n",
    "    \n",
    "    # Iterating to find the eigenvector\n",
    "    for k in range(1, int(N-1)):\n",
    "        x_k = A @ x0\n",
    "        \n",
    "        # Normalizing x_k\n",
    "        x_k = x_k / la.norm(x_k)\n",
    "        \n",
    "        # Stopping criteria\n",
    "        if (la.norm(x_k - x0) < tol):\n",
    "            break\n",
    "            \n",
    "        else:\n",
    "            x0 = x_k\n",
    "\n",
    "    # Returns the dominant eigenvalue and its dominant eigenvector\n",
    "    return x_k.T @ A @ x_k, x_k"
   ]
  },
  {
   "cell_type": "markdown",
   "metadata": {},
   "source": [
    "## Comparing results with the scipy routine"
   ]
  },
  {
   "cell_type": "code",
   "execution_count": 3,
   "metadata": {},
   "outputs": [],
   "source": [
    "A = np.random.random((10,10))"
   ]
  },
  {
   "cell_type": "markdown",
   "metadata": {},
   "source": [
    "### Power method"
   ]
  },
  {
   "cell_type": "code",
   "execution_count": 4,
   "metadata": {},
   "outputs": [],
   "source": [
    "lambda_power, eig_power = power_method(A)"
   ]
  },
  {
   "cell_type": "code",
   "execution_count": 5,
   "metadata": {},
   "outputs": [
    {
     "data": {
      "text/plain": [
       "True"
      ]
     },
     "execution_count": 5,
     "metadata": {},
     "output_type": "execute_result"
    }
   ],
   "source": [
    "# Verifying the Ax = lambda * x\n",
    "\n",
    "np.allclose(la.norm(A @ eig_power), la.norm(lambda_power * eig_power))"
   ]
  },
  {
   "cell_type": "markdown",
   "metadata": {},
   "source": [
    "### Scipy Method"
   ]
  },
  {
   "cell_type": "code",
   "execution_count": 6,
   "metadata": {},
   "outputs": [],
   "source": [
    "eigs, vecs = la.eig(A)\n",
    "\n",
    "loc = np.argmax(eigs)\n",
    "lamb, x = eigs[loc], vecs[:,loc]"
   ]
  },
  {
   "cell_type": "code",
   "execution_count": 7,
   "metadata": {},
   "outputs": [
    {
     "data": {
      "text/plain": [
       "((5.225600995601205+0j),\n",
       " array([0.30981179+0.j, 0.32378534+0.j, 0.30023743+0.j, 0.31578341+0.j,\n",
       "        0.34990432+0.j, 0.31317366+0.j, 0.24793511+0.j, 0.2502221 +0.j,\n",
       "        0.38042582+0.j, 0.34641096+0.j]))"
      ]
     },
     "execution_count": 7,
     "metadata": {},
     "output_type": "execute_result"
    }
   ],
   "source": [
    "lamb, x "
   ]
  },
  {
   "cell_type": "code",
   "execution_count": 8,
   "metadata": {},
   "outputs": [
    {
     "data": {
      "text/plain": [
       "True"
      ]
     },
     "execution_count": 8,
     "metadata": {},
     "output_type": "execute_result"
    }
   ],
   "source": [
    "# Comparing the Power method and the Scipy eigenvalue answers\n",
    "\n",
    "np.allclose(lambda_power, lamb)"
   ]
  },
  {
   "cell_type": "markdown",
   "metadata": {},
   "source": [
    "# Hessenberg Preconditioning"
   ]
  },
  {
   "cell_type": "code",
   "execution_count": 9,
   "metadata": {},
   "outputs": [],
   "source": [
    "def QR_eig(A, N=int(10e3), tols=10e-5):\n",
    "    '''\n",
    "    Calculating all of the eigenvalues of a square matrix. \n",
    "    '''\n",
    "    # Gets the dimensions of the matrix. m=n because A is a square matrix\n",
    "    m, n = A.shape\n",
    "    \n",
    "    # Hessenberg form of A\n",
    "    S = la.hessenberg(A)\n",
    "    \n",
    "    # 1st loop that runs until N\n",
    "    for k in range(0,N-1):\n",
    "        Q, R = la.qr(S)\n",
    "        S = R @ Q\n",
    "    \n",
    "    # Initialize empty list of eigenvalues\n",
    "    eigs = []\n",
    "    \n",
    "    # Initialize i = 0\n",
    "    i = 0\n",
    "    \n",
    "    while i<n:\n",
    "        if S[i][i]==S[-1][-1] or S[i+1][i]<tols:\n",
    "            eigs.append(S[i][i])\n",
    "    \n",
    "        elif S[i][i].shape==(2,2):\n",
    "            # Performing the quadratic equation. Below are the coefficients\n",
    "            a, b, c, d = S[i][0][0], S[i][0][1], S[i][1][0], S[i][1][1]\n",
    "            \n",
    "            l1 = ((a+d)/2) + (cm.sqrt((a+d)**2 - (4*((a*d) - (b*c)))) / 2)\n",
    "            l2 = ((a+d)/2) - (cm.sqrt((a+d)**2 - (4*((a*d) - (b*c)))) / 2)\n",
    "            eigs.append(l1)\n",
    "            eigs.append(l2)\n",
    "            i += 1\n",
    "            \n",
    "        i+=1\n",
    "        \n",
    "    return eigs"
   ]
  },
  {
   "cell_type": "code",
   "execution_count": 10,
   "metadata": {},
   "outputs": [],
   "source": [
    "A = np.random.random((2,2))"
   ]
  },
  {
   "cell_type": "code",
   "execution_count": 11,
   "metadata": {},
   "outputs": [
    {
     "data": {
      "text/plain": [
       "[1.403271527483088, -0.3920090824714922]"
      ]
     },
     "execution_count": 11,
     "metadata": {},
     "output_type": "execute_result"
    }
   ],
   "source": [
    "eigs = QR_eig(A)\n",
    "eigs"
   ]
  }
 ],
 "metadata": {
  "kernelspec": {
   "display_name": "Python 3",
   "language": "python",
   "name": "python3"
  },
  "language_info": {
   "codemirror_mode": {
    "name": "ipython",
    "version": 3
   },
   "file_extension": ".py",
   "mimetype": "text/x-python",
   "name": "python",
   "nbconvert_exporter": "python",
   "pygments_lexer": "ipython3",
   "version": "3.7.1"
  }
 },
 "nbformat": 4,
 "nbformat_minor": 2
}
